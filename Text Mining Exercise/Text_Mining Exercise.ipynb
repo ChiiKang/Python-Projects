{
  "nbformat": 4,
  "nbformat_minor": 0,
  "metadata": {
    "colab": {
      "provenance": [],
      "authorship_tag": "ABX9TyMo5HusNpHDGRXXpgapH5xU",
      "include_colab_link": true
    },
    "kernelspec": {
      "name": "python3",
      "display_name": "Python 3"
    },
    "language_info": {
      "name": "python"
    }
  },
  "cells": [
    {
      "cell_type": "markdown",
      "metadata": {
        "id": "view-in-github",
        "colab_type": "text"
      },
      "source": [
        "<a href=\"https://colab.research.google.com/github/ChiiKang/Python-Projects/blob/main/Text_Mining%20Exercise.ipynb\" target=\"_parent\"><img src=\"https://colab.research.google.com/assets/colab-badge.svg\" alt=\"Open In Colab\"/></a>"
      ]
    },
    {
      "cell_type": "code",
      "execution_count": null,
      "metadata": {
        "id": "mgAq2N3UvmO-"
      },
      "outputs": [],
      "source": [
        "d1 = \"The sky is blue\"\n",
        "d2 = \"The sun is bright\"\n",
        "d3 = \"The sun in the sky is bright\"\n",
        "d4 = \"We can see the shinning sun, the bright sun\"\n",
        "d5 = \"Sun oh Mr. Sun, please shine on us. YOur lovely sunshine makes my day bright\"\n",
        "d6 = \"Sun, Sun go away, I hate sun, sun sun sun sun sun!\"\n",
        "\n",
        "original_documents = [d1, d2, d3, d4, d5, d6]"
      ]
    },
    {
      "cell_type": "code",
      "source": [
        "# Create function in python to practice reusability\n",
        "def tokenize(data):  #def:define\n",
        "  import re # Regular Expression\n",
        "  stopwords = open(\"stopwords.txt\",\"r\").read().splitlines()  #r is the format, stopwords is a list\n",
        "\n",
        "  #Tokenizeation the text pass into this function\n",
        "  tokens = re.findall(r'\\w+',data)   #\\w: alpha numerical (0-9,a-z,)  +:take the whole length r:regular expression\n",
        "\n",
        "  #Return the wordss in lower case where it doesn't appear in stopwords file\n",
        "  return [t.lower() for t in tokens if t.lower() not in stopwords]"
      ],
      "metadata": {
        "id": "cm69xjNpw9rs"
      },
      "execution_count": null,
      "outputs": []
    },
    {
      "cell_type": "code",
      "source": [
        "documents = []\n",
        "for document in original_documents:\n",
        "  documents.append(tokenize(document))\n",
        "documents"
      ],
      "metadata": {
        "colab": {
          "base_uri": "https://localhost:8080/"
        },
        "id": "VNqNf4g-0z2s",
        "outputId": "eafe7172-e4bb-40ab-9fc1-bf4ee6f74b7a"
      },
      "execution_count": null,
      "outputs": [
        {
          "output_type": "execute_result",
          "data": {
            "text/plain": [
              "[['sky', 'blue'],\n",
              " ['sun', 'bright'],\n",
              " ['sun', 'sky', 'bright'],\n",
              " ['shinning', 'sun', 'bright', 'sun'],\n",
              " ['sun', 'sun', 'shine', 'lovely', 'sunshine', 'makes', 'day', 'bright'],\n",
              " ['sun', 'sun', 'hate', 'sun', 'sun', 'sun', 'sun', 'sun', 'sun']]"
            ]
          },
          "metadata": {},
          "execution_count": 66
        }
      ]
    },
    {
      "cell_type": "code",
      "source": [
        "from collections import Counter\n",
        "from math import log"
      ],
      "metadata": {
        "id": "nDNkyYma1wP0"
      },
      "execution_count": null,
      "outputs": []
    },
    {
      "cell_type": "code",
      "source": [
        "# Term Frequency\n",
        "term_tf = []\n",
        "for document in documents:\n",
        "  length = len(document)\n",
        "  #Counter(document).items will appear (term,frequency), the front part is to calculate\n",
        "  term_frequency = [(term,frequency/float(length))for term,frequency in Counter(document).items()]\n",
        "  term_tf.append(term_frequency)\n",
        "term_tf"
      ],
      "metadata": {
        "colab": {
          "base_uri": "https://localhost:8080/"
        },
        "id": "gqUcm-bW2DJi",
        "outputId": "14edb3ad-bec9-45af-ed2a-d4ddabff7ae4"
      },
      "execution_count": null,
      "outputs": [
        {
          "output_type": "execute_result",
          "data": {
            "text/plain": [
              "[[('sky', 0.5), ('blue', 0.5)],\n",
              " [('sun', 0.5), ('bright', 0.5)],\n",
              " [('sun', 0.3333333333333333),\n",
              "  ('sky', 0.3333333333333333),\n",
              "  ('bright', 0.3333333333333333)],\n",
              " [('shinning', 0.25), ('sun', 0.5), ('bright', 0.25)],\n",
              " [('sun', 0.25),\n",
              "  ('shine', 0.125),\n",
              "  ('lovely', 0.125),\n",
              "  ('sunshine', 0.125),\n",
              "  ('makes', 0.125),\n",
              "  ('day', 0.125),\n",
              "  ('bright', 0.125)],\n",
              " [('sun', 0.8888888888888888), ('hate', 0.1111111111111111)]]"
            ]
          },
          "metadata": {},
          "execution_count": 68
        }
      ]
    },
    {
      "cell_type": "code",
      "source": [
        "#Document Freuency\n",
        "N = len(documents)\n",
        "#{} initialize dictionary\n",
        "df = {}\n",
        "#Loop for documents\n",
        "for document in documents:\n",
        "  #Loop for term\n",
        "  for term in document:\n",
        "      if term in df:\n",
        "        #if term exist in df dictionary\n",
        "        #past this round\n",
        "        continue\n",
        "      else:\n",
        "        #if term doesn't exist in df dictionary\n",
        "        #create a new key and set the counter to Zero(0)\n",
        "          df[term]=0 #Initialize the counter\n",
        "\n",
        "      #Loop documents again\n",
        "      for doc in documents:\n",
        "        #check if term exist in the document\n",
        "        if term in doc:\n",
        "          #Add 1 to the term if it exist in the document\n",
        "          df[term] = df[term]+ 1. #Dont forget the DOT\n",
        "df\n",
        "  #blue occur in 1 document, bridge occur in 4 documents..."
      ],
      "metadata": {
        "colab": {
          "base_uri": "https://localhost:8080/"
        },
        "id": "3qwKrHw-4LXT",
        "outputId": "e6eff602-3245-4fb9-ffcb-a231060db452"
      },
      "execution_count": null,
      "outputs": [
        {
          "output_type": "execute_result",
          "data": {
            "text/plain": [
              "{'blue': 1.0,\n",
              " 'bright': 4.0,\n",
              " 'day': 1.0,\n",
              " 'hate': 1.0,\n",
              " 'lovely': 1.0,\n",
              " 'makes': 1.0,\n",
              " 'shine': 1.0,\n",
              " 'shinning': 1.0,\n",
              " 'sky': 2.0,\n",
              " 'sun': 5.0,\n",
              " 'sunshine': 1.0}"
            ]
          },
          "metadata": {},
          "execution_count": 69
        }
      ]
    },
    {
      "cell_type": "code",
      "source": [
        "# Inverse document frequency\n",
        "# Create a dictionary variable\n",
        "idf = {}\n",
        "for term in df:\n",
        "  idf[term]=log(N/df[term])\n",
        "idf"
      ],
      "metadata": {
        "colab": {
          "base_uri": "https://localhost:8080/"
        },
        "id": "-Jxqo2Jf6xLy",
        "outputId": "df3449cc-728a-4987-d814-9856e1a828ab"
      },
      "execution_count": null,
      "outputs": [
        {
          "output_type": "execute_result",
          "data": {
            "text/plain": [
              "{'blue': 1.791759469228055,\n",
              " 'bright': 0.4054651081081644,\n",
              " 'day': 1.791759469228055,\n",
              " 'hate': 1.791759469228055,\n",
              " 'lovely': 1.791759469228055,\n",
              " 'makes': 1.791759469228055,\n",
              " 'shine': 1.791759469228055,\n",
              " 'shinning': 1.791759469228055,\n",
              " 'sky': 1.0986122886681098,\n",
              " 'sun': 0.1823215567939546,\n",
              " 'sunshine': 1.791759469228055}"
            ]
          },
          "metadata": {},
          "execution_count": 70
        }
      ]
    },
    {
      "cell_type": "code",
      "source": [],
      "metadata": {
        "id": "ZIPr0_gI8_IB"
      },
      "execution_count": null,
      "outputs": []
    },
    {
      "cell_type": "code",
      "source": [
        "# TFiDF\n",
        "features = []\n",
        "for term_freq in term_tf:\n",
        "  tfidf = [(term,f*idf[term]) for term,f in term_freq]\n",
        "  features.append(tfidf)\n",
        "features"
      ],
      "metadata": {
        "colab": {
          "base_uri": "https://localhost:8080/"
        },
        "id": "pJd-Tnvt622P",
        "outputId": "be9706c1-b31d-416e-9da9-2b34762c2fc6"
      },
      "execution_count": null,
      "outputs": [
        {
          "output_type": "execute_result",
          "data": {
            "text/plain": [
              "[[('sky', 0.5493061443340549), ('blue', 0.8958797346140275)],\n",
              " [('sun', 0.0911607783969773), ('bright', 0.2027325540540822)],\n",
              " [('sun', 0.060773852264651526),\n",
              "  ('sky', 0.3662040962227032),\n",
              "  ('bright', 0.13515503603605478)],\n",
              " [('shinning', 0.44793986730701374),\n",
              "  ('sun', 0.0911607783969773),\n",
              "  ('bright', 0.1013662770270411)],\n",
              " [('sun', 0.04558038919848865),\n",
              "  ('shine', 0.22396993365350687),\n",
              "  ('lovely', 0.22396993365350687),\n",
              "  ('sunshine', 0.22396993365350687),\n",
              "  ('makes', 0.22396993365350687),\n",
              "  ('day', 0.22396993365350687),\n",
              "  ('bright', 0.05068313851352055)],\n",
              " [('sun', 0.16206360603907075), ('hate', 0.19908438546978388)]]"
            ]
          },
          "metadata": {},
          "execution_count": 71
        }
      ]
    },
    {
      "cell_type": "code",
      "source": [
        "import re\n",
        "import math\n",
        "def cosim(vec1, vec2):\n",
        "    v1 = dict(vec1)\n",
        "    v2 = dict(vec2)\n",
        "\n",
        "    intersection = set(v1.keys()) & set(v2.keys())\n",
        "    numerator = sum([v1[x] * v1[x] for x in intersection])\n",
        "\n",
        "    sum1 = sum([v1[x]**2 for x in v1.keys()])\n",
        "    sum2 = sum([v2[x]**2 for x in v2.keys()])\n",
        "    denominator = math.sqrt(sum1) * math.sqrt(sum2)\n",
        "\n",
        "    if not denominator:\n",
        "        return 0.0\n",
        "    else:\n",
        "        return float(numerator) / denominator"
      ],
      "metadata": {
        "id": "eyn2sNQ6-1vB"
      },
      "execution_count": null,
      "outputs": []
    },
    {
      "cell_type": "code",
      "source": [
        "import operator\n",
        "#keyword query\n",
        "query = 'sun is bright'\n",
        "#Tokenize the keyword query\n",
        "q = [(token,1) for token in re.findall('\\w+', query)]\n",
        "print(q)\n",
        "results = {}\n",
        "#Calculate the cosimilarity of the keyword query\n",
        "#with the features/tfidf\n",
        "for i in range(len(features)):\n",
        "    results[i] = cosim(features[i],q)\n",
        "#sort the results based on the cosimilarity result, reverse:Descending\n",
        "sorted_results = sorted(results.items(),key=operator.itemgetter(1), reverse = True)\n",
        "\n",
        "for (i, score) in sorted_results:\n",
        "    print(\"{0} - {1}\".format(score,original_documents[i]))"
      ],
      "metadata": {
        "colab": {
          "base_uri": "https://localhost:8080/"
        },
        "id": "Y0RMYNKB-5dR",
        "outputId": "66a53397-4d3e-4f56-d813-933b189c782a"
      },
      "execution_count": null,
      "outputs": [
        {
          "output_type": "stream",
          "name": "stdout",
          "text": [
            "[('sun', 1), ('is', 1), ('bright', 1)]\n",
            "0.12833650557711443 - The sun is bright\n",
            "0.05907045026551179 - Sun, Sun go away, I hate sun, sun sun sun sun sun!\n",
            "0.032094061350424696 - The sun in the sky is bright\n",
            "0.02291690881451253 - We can see the shinning sun, the bright sun\n",
            "0.00530751106274252 - Sun oh Mr. Sun, please shine on us. YOur lovely sunshine makes my day bright\n",
            "0.0 - The sky is blue\n"
          ]
        }
      ]
    },
    {
      "cell_type": "code",
      "source": [],
      "metadata": {
        "id": "99h7Zno4BrN-"
      },
      "execution_count": null,
      "outputs": []
    }
  ]
}